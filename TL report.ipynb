{
 "cells": [
  {
   "cell_type": "markdown",
   "metadata": {},
   "source": [
    "# Toronto vs. London neighbourhoods"
   ]
  },
  {
   "cell_type": "markdown",
   "metadata": {},
   "source": [
    "## Introduction\n",
    "\n",
    "### 1.1 Background\n",
    "I have chosen to analyse the similarity and differences between the neighbourhoods in Toronto, Canada and London, Great Britain based on the types of venues and also by the registered crimes in the respective areas. These two cities are very touristic, mostly English speaking inhabitants, also many immigrants find permanent settlement in the specific areas. \n",
    "In Canada it is legal and allowed to own guns, also quite easy to purchase them, however all owners have to be licensed by the Royal Canadian Mounted Police. In the United Kingdom handguns are prohibited and banned, with the exception of sporting riffles and shotguns.\n",
    "\n",
    "### 1.2 Problem\n",
    "It would benefit the communities in those cities to know which neighbourhoods are more prone to criminal actions, so the inhabitants of the neighbourhoods can be better informed on how to protect themselves against crimes, landlords can upgrade the surveillance systems in order to create safe zones and be more aware of the surrounding areas. Better surveillance and security would mean that crime rates would drop and crime acts would be discouraged, also the perpetrators would be identified and convicted easier by having surveillance footage. It will be an interesting case to notice if there is any crime rates difference caused by the gun ownership laws and how the neighbourhoods of the cities will be clustered based on that data.\n",
    "\n",
    "### 1.3 Interest\n",
    "This analysis is a good business case for security and surveillance companies that can afterwards target and pursue customers from the affected neighbourhoods with the data at hand.\n",
    "The similarity of the neighbourhoods could also be useful for tourists, or any person that is moving between the two cities in order to find accommodation within a similar area to which they currently live in.\n",
    "\n",
    "### 1.4 Hypotesis\n",
    "My initial assumptions are that Toronto neighbourhoods have more crimes registered than London neighbourhoods because of the gun policies in the respective countries. Also, I would assume that downtown areas, since they are touristic places, will have higher rates of registered crimes than the residential neighbourhoods."
   ]
  },
  {
   "cell_type": "markdown",
   "metadata": {},
   "source": [
    "## Data acquisition and cleaning\n",
    "\n",
    "### 2.1 Data sources\n",
    "Crime datasets were downloaded from the respective city police websites.\n",
    "The neighbourhoods and boroughs of the cities were acquired by webscraping Wikipedia webpages.\n",
    "\n",
    "### 2.2 Data cleaning\n",
    "The crime datasets were extensive, so I have decided to used only the crimes registered in the years 2015 and 2016 in both cities. Toronto crime dataset was organised by year of reported crime, so I have just simply kept only the entries of 2015 and 2016, then made a total of crimes reported per neighbourhood. For the London dataset, the crime reports were made by month columns and the rows were organised by crime types, so I have summed up the 24 month columns of interest and then sorted the values by neighbourhood. The final crime data frames have two columns only: neighbourhoods and total crimes committed.\n",
    "I also wanted to have the boroughs of the neighbourhoods, so I have used web scraping to create a data frame out of the neighborhood table from Wikipedia. The final boroughs data frame have a column for neighbourhoods and one for boroughs.\n",
    "\n",
    "### 2.3 Feature selection\n",
    "I have merged the crime and borough data frames. \n",
    "For Toronto I have merged the data based on indexes, and before this I have removed from the data frames the 5 entries that were not common. I have decided not to append them again to the dataframe because these were the onlt neighborhoods not featured in the police dataset, so the reported crimes in those neighborhood was 0 and a separate cluster was being made for them.\n",
    "For London I have used only the boroughs that are in the metropolitan area of the city since otherwise the processing time would have been lengthly. I have removed all the duplicate neighbourhood names that were not recognised as being the same when merging them, then I have checked the geocoded coordinates results and I have removed all the neighbourhoods that had exactly the same coordinates. I have left only one entry from the ones that had the same coordinates and I have updated the crime rates from the deleted neighbourhoods to the one that was left, so I would not be tampering with the clustering results.\n",
    "The final dataframes have columns for neighbourhood, borough and total crimes, then the coordinate values of each neighbourhood were added. For the geocoded I have used the name and borough information of the neighbourhoods."
   ]
  },
  {
   "cell_type": "markdown",
   "metadata": {},
   "source": [
    "## Exploratory Data Analysis\n",
    "\n",
    "### 3.1 Calculation of venue variables\n",
    "I have acquired venue ID’s from Foursquare for the following categories, Arts & Entertainment, Colleges, Restaurants, Night Life, Outdoors & Recreation, Government Buildings, Medical Centers, Spiritual Centers and Grocery Shops, that I have thought would create better defined clusters. I have searched for those categories in each neighborhood and returned a data frame for each category, containing the number of venues that are in each neighbourhood. With the resulting category dataframes I have merged them all and resulted a data frame of the neighbourhoods, boroughs, coordinates, crimes and venue count columns.\n",
    "\n",
    "### 3.2 Normalising the data\n",
    "For better results I have decided to normalise the data in the merged data frame, so I have used only the crimes column and the venue count ones. In order to save the neighbourhood information I have created a new data frame only for that and afterwards it was appended to the normalised values with which I further did my analysis."
   ]
  },
  {
   "cell_type": "markdown",
   "metadata": {},
   "source": [
    "## Machine learning\n",
    "\n",
    "### 4.1 Sorting the data by frequency\n",
    "I have used the normalised data for creating a ranking for each neighbourhood based on the number of venues found in the area and also the crime rates of the specific neighbourhood. This new dataset should provide better clustering results.\n",
    "\n",
    "### 4.2 Clustering - KMeans\n",
    "I applied unsupervised machine learning algorithm KMeans for clustering the neighbourhoods and observe the connections based on which the neighbourhoods were set together. Based on empirical trials, I have observed that a number of 4 clusters is the better fit because anything higher would have just divided the clusters with the fewer entries and anything lower would not have given such clear insight into why the areas were grouped together.\n",
    "For Toronto the clusters contained 17, 47, 2 and respectively 72 datapoints. \n",
    "For London the clusters were made of 168, 13, 73 and 8 datapoints."
   ]
  },
  {
   "cell_type": "markdown",
   "metadata": {},
   "source": [
    "## Results\n",
    "\n",
    " Neighborhoods with significant amounts of Spiritual Centers, Restaurants and\n",
    "#Outdoors&Recreational venues, not many Government Buildings.\n",
    " I would categorize this cluster as densely populated residential neighborhoods with low crime rates.\n",
    "\n",
    "### 5.1 Toronto\n",
    "The first cluster contains 17 values and belongs to areas with average crime rates, many spiritual centers, outdoor & recreational venues. There are also significant amounts of night life venues, so these areas are close to downtown locations.\n",
    "The second cluster has 47 values. These are densely populated neighbourhoods with many spiritual centers, restaurants and recreational venues, however the crime rates high.\n",
    "The third cluster has only 2 values, representing neighbourhoods that are downtown and have many government buildings. These have average amounts of crimes reported and many night life venues, restaurants, also recreational venues.\n",
    "The fourth cluster is made of 72 neighbourhoods and they all have in common very high crime rates. These are residential neighborhoods with many restaurants, medical centars and recrealtional venues. \n",
    "\n",
    "### 5.2 London\n",
    "The first cluster is the biggest, containing 168 values and belongs to areas with significant crime rates, many spiritual centers, outdoor & recreational venues. There are low numbers for government buildings, so these areas are the densely populated residential locations.\n",
    "The second cluster is made of low crime areas and has 13 neighbourhoods. They have significant amounts of nigh life venues, restaurants and recreational venues specific for areas close to downtown.\n",
    "The third cluster has 73 datapoints and are made of areas with low crime rates, many restaurants and recreational venues. These are suburban residential neighbourhoods.\n",
    "The fourth cluster is made of 8 neighbourhoods, which all have many government and official buildings, so they’re located in the heart of the city. These areas have low reports of crimes."
   ]
  },
  {
   "cell_type": "markdown",
   "metadata": {},
   "source": [
    "## Observations\n",
    "\n",
    "Based on the above results, I have noticed that the grouping was split between neighbourhoods with high crime rates and those with low rates, and based on their location, city center areas and the rest. \n",
    "It is easily noticed the impact of gun laws in the cities, since Toronto has significantly higher rates of crimes than London, just as expected in my hypothesis. However, I have also noticed that there are areas downtown that contrary to my initial assumption, have very low crime rates in both cities. "
   ]
  },
  {
   "cell_type": "markdown",
   "metadata": {},
   "source": [
    "## Conclusion\n",
    "\n",
    "The results show which neighbourhoods are more prone to criminal activities, so the pitch to the surveillance and security companies can be made based on this information. The analysis can be even deeper by selecting from the crime datasets the types of crime that are more frequent in those areas and proposing different solutions in diminishing the crime rates and improving the safety of the zone, then promoting those services to the inhabitants and landlords of the respective neighbourhoods."
   ]
  },
  {
   "cell_type": "code",
   "execution_count": null,
   "metadata": {},
   "outputs": [],
   "source": []
  }
 ],
 "metadata": {
  "kernelspec": {
   "display_name": "Python 3",
   "language": "python",
   "name": "python3"
  },
  "language_info": {
   "codemirror_mode": {
    "name": "ipython",
    "version": 3
   },
   "file_extension": ".py",
   "mimetype": "text/x-python",
   "name": "python",
   "nbconvert_exporter": "python",
   "pygments_lexer": "ipython3",
   "version": "3.8.5"
  }
 },
 "nbformat": 4,
 "nbformat_minor": 4
}
